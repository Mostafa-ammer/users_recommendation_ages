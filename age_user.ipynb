{
 "cells": [
  {
   "cell_type": "markdown",
   "metadata": {
    "id": "a3CGb2ZOIjkN"
   },
   "source": [
    "# Personalized Recommendation system"
   ]
  },
  {
   "cell_type": "markdown",
   "metadata": {
    "id": "vuXZau0CIjkP"
   },
   "source": [
    "- We will make personalized recomeendation system based on set of categories\n",
    "\n",
    "- there are three categories created in this notebook :\n",
    "\n",
    "**the first one is** : \"Children\" and it's criteria is : age less than 12 years\n",
    "\n",
    "**the second one is** : \"Teens\"  and it's  criteria is:  age between 12 and 18 years\n",
    "\n",
    "**the third one is** : \"Adults\" and it's criteria is :  age larger than 18 years"
   ]
  },
  {
   "cell_type": "markdown",
   "metadata": {
    "id": "Cr1-nSzrIjkP"
   },
   "source": [
    "# About dataset\n",
    "\n",
    "We use MovieLens 1M movie ratings. Stable benchmark dataset. 1 million ratings from 6000 users on 4000 movies. Released 2/2003.\n",
    "\n",
    "these version of dataset contains \"age - gender\" Attributes for making recommendation for different clients based on there age"
   ]
  },
  {
   "cell_type": "markdown",
   "metadata": {
    "id": "h03JQ3WDIjkQ"
   },
   "source": [
    "# Preparing Python Environment"
   ]
  },
  {
   "cell_type": "code",
   "execution_count": 1,
   "metadata": {
    "_cell_guid": "b1076dfc-b9ad-4769-8c92-a6c4dae69d19",
    "_uuid": "8f2839f25d086af736a60e9eeb907d3b93b6e0e5",
    "execution": {
     "iopub.execute_input": "2023-10-10T21:32:55.503529Z",
     "iopub.status.busy": "2023-10-10T21:32:55.502920Z",
     "iopub.status.idle": "2023-10-10T21:33:40.907704Z",
     "shell.execute_reply": "2023-10-10T21:33:40.906418Z",
     "shell.execute_reply.started": "2023-10-10T21:32:55.503500Z"
    },
    "id": "fr9KfrJBIjkQ",
    "outputId": "c1fdb4b6-5506-4ab7-e2f9-ee76dc7a4ca2"
   },
   "outputs": [
    {
     "name": "stdout",
     "output_type": "stream",
     "text": [
      "Requirement already satisfied: scikit-surprise in c:\\users\\mostafa\\anaconda33\\lib\\site-packages (1.1.3)\n",
      "Requirement already satisfied: joblib>=1.0.0 in c:\\users\\mostafa\\anaconda33\\lib\\site-packages (from scikit-surprise) (1.1.1)\n",
      "Requirement already satisfied: numpy>=1.17.3 in c:\\users\\mostafa\\anaconda33\\lib\\site-packages (from scikit-surprise) (1.23.5)\n",
      "Requirement already satisfied: scipy>=1.3.2 in c:\\users\\mostafa\\anaconda33\\lib\\site-packages (from scikit-surprise) (1.10.0)\n",
      "Requirement already satisfied: scikit-surprise in c:\\users\\mostafa\\anaconda33\\lib\\site-packages (1.1.3)\n",
      "Requirement already satisfied: joblib>=1.0.0 in c:\\users\\mostafa\\anaconda33\\lib\\site-packages (from scikit-surprise) (1.1.1)\n",
      "Requirement already satisfied: numpy>=1.17.3 in c:\\users\\mostafa\\anaconda33\\lib\\site-packages (from scikit-surprise) (1.23.5)\n",
      "Requirement already satisfied: scipy>=1.3.2 in c:\\users\\mostafa\\anaconda33\\lib\\site-packages (from scikit-surprise) (1.10.0)\n",
      "Requirement already satisfied: streamlit in c:\\users\\mostafa\\anaconda33\\lib\\site-packages (1.27.2)\n",
      "Requirement already satisfied: altair<6,>=4.0 in c:\\users\\mostafa\\anaconda33\\lib\\site-packages (from streamlit) (5.1.1)\n",
      "Requirement already satisfied: blinker<2,>=1.0.0 in c:\\users\\mostafa\\anaconda33\\lib\\site-packages (from streamlit) (1.6.2)\n",
      "Requirement already satisfied: cachetools<6,>=4.0 in c:\\users\\mostafa\\anaconda33\\lib\\site-packages (from streamlit) (5.3.1)\n",
      "Requirement already satisfied: click<9,>=7.0 in c:\\users\\mostafa\\anaconda33\\lib\\site-packages (from streamlit) (8.1.7)\n",
      "Requirement already satisfied: importlib-metadata<7,>=1.4 in c:\\users\\mostafa\\anaconda33\\lib\\site-packages (from streamlit) (4.11.3)\n",
      "Requirement already satisfied: numpy<2,>=1.19.3 in c:\\users\\mostafa\\anaconda33\\lib\\site-packages (from streamlit) (1.23.5)\n",
      "Requirement already satisfied: packaging<24,>=16.8 in c:\\users\\mostafa\\anaconda33\\lib\\site-packages (from streamlit) (22.0)\n",
      "Requirement already satisfied: pandas<3,>=1.3.0 in c:\\users\\mostafa\\anaconda33\\lib\\site-packages (from streamlit) (1.5.3)\n",
      "Requirement already satisfied: pillow<11,>=7.1.0 in c:\\users\\mostafa\\anaconda33\\lib\\site-packages (from streamlit) (9.4.0)\n",
      "Requirement already satisfied: protobuf<5,>=3.20 in c:\\users\\mostafa\\anaconda33\\lib\\site-packages (from streamlit) (4.23.4)\n",
      "Requirement already satisfied: pyarrow>=6.0 in c:\\users\\mostafa\\anaconda33\\lib\\site-packages (from streamlit) (13.0.0)\n",
      "Requirement already satisfied: python-dateutil<3,>=2.7.3 in c:\\users\\mostafa\\anaconda33\\lib\\site-packages (from streamlit) (2.8.2)\n",
      "Requirement already satisfied: requests<3,>=2.27 in c:\\users\\mostafa\\anaconda33\\lib\\site-packages (from streamlit) (2.28.1)\n",
      "Requirement already satisfied: rich<14,>=10.14.0 in c:\\users\\mostafa\\anaconda33\\lib\\site-packages (from streamlit) (13.6.0)\n",
      "Requirement already satisfied: tenacity<9,>=8.1.0 in c:\\users\\mostafa\\anaconda33\\lib\\site-packages (from streamlit) (8.2.3)\n",
      "Requirement already satisfied: toml<2,>=0.10.1 in c:\\users\\mostafa\\anaconda33\\lib\\site-packages (from streamlit) (0.10.2)\n",
      "Requirement already satisfied: typing-extensions<5,>=4.3.0 in c:\\users\\mostafa\\anaconda33\\lib\\site-packages (from streamlit) (4.4.0)\n",
      "Requirement already satisfied: tzlocal<6,>=1.1 in c:\\users\\mostafa\\anaconda33\\lib\\site-packages (from streamlit) (5.0.1)\n",
      "Requirement already satisfied: validators<1,>=0.2 in c:\\users\\mostafa\\anaconda33\\lib\\site-packages (from streamlit) (0.22.0)\n",
      "Requirement already satisfied: gitpython!=3.1.19,<4,>=3.0.7 in c:\\users\\mostafa\\anaconda33\\lib\\site-packages (from streamlit) (3.1.37)\n",
      "Requirement already satisfied: pydeck<1,>=0.8.0b4 in c:\\users\\mostafa\\anaconda33\\lib\\site-packages (from streamlit) (0.8.1b0)\n",
      "Requirement already satisfied: tornado<7,>=6.0.3 in c:\\users\\mostafa\\anaconda33\\lib\\site-packages (from streamlit) (6.1)\n",
      "Requirement already satisfied: watchdog>=2.1.5 in c:\\users\\mostafa\\anaconda33\\lib\\site-packages (from streamlit) (2.1.6)\n",
      "Requirement already satisfied: jinja2 in c:\\users\\mostafa\\anaconda33\\lib\\site-packages (from altair<6,>=4.0->streamlit) (3.1.2)\n",
      "Requirement already satisfied: jsonschema>=3.0 in c:\\users\\mostafa\\anaconda33\\lib\\site-packages (from altair<6,>=4.0->streamlit) (4.17.3)\n",
      "Requirement already satisfied: toolz in c:\\users\\mostafa\\anaconda33\\lib\\site-packages (from altair<6,>=4.0->streamlit) (0.12.0)\n",
      "Requirement already satisfied: colorama in c:\\users\\mostafa\\anaconda33\\lib\\site-packages (from click<9,>=7.0->streamlit) (0.4.6)\n",
      "Requirement already satisfied: gitdb<5,>=4.0.1 in c:\\users\\mostafa\\anaconda33\\lib\\site-packages (from gitpython!=3.1.19,<4,>=3.0.7->streamlit) (4.0.10)\n",
      "Requirement already satisfied: zipp>=0.5 in c:\\users\\mostafa\\anaconda33\\lib\\site-packages (from importlib-metadata<7,>=1.4->streamlit) (3.11.0)\n",
      "Requirement already satisfied: pytz>=2020.1 in c:\\users\\mostafa\\anaconda33\\lib\\site-packages (from pandas<3,>=1.3.0->streamlit) (2022.7)\n",
      "Requirement already satisfied: six>=1.5 in c:\\users\\mostafa\\anaconda33\\lib\\site-packages (from python-dateutil<3,>=2.7.3->streamlit) (1.16.0)\n",
      "Requirement already satisfied: charset-normalizer<3,>=2 in c:\\users\\mostafa\\anaconda33\\lib\\site-packages (from requests<3,>=2.27->streamlit) (2.0.4)\n",
      "Requirement already satisfied: idna<4,>=2.5 in c:\\users\\mostafa\\anaconda33\\lib\\site-packages (from requests<3,>=2.27->streamlit) (3.4)\n",
      "Requirement already satisfied: urllib3<1.27,>=1.21.1 in c:\\users\\mostafa\\anaconda33\\lib\\site-packages (from requests<3,>=2.27->streamlit) (1.26.14)\n",
      "Requirement already satisfied: certifi>=2017.4.17 in c:\\users\\mostafa\\anaconda33\\lib\\site-packages (from requests<3,>=2.27->streamlit) (2023.7.22)\n",
      "Requirement already satisfied: markdown-it-py>=2.2.0 in c:\\users\\mostafa\\anaconda33\\lib\\site-packages (from rich<14,>=10.14.0->streamlit) (3.0.0)\n",
      "Requirement already satisfied: pygments<3.0.0,>=2.13.0 in c:\\users\\mostafa\\anaconda33\\lib\\site-packages (from rich<14,>=10.14.0->streamlit) (2.16.1)\n",
      "Requirement already satisfied: tzdata in c:\\users\\mostafa\\anaconda33\\lib\\site-packages (from tzlocal<6,>=1.1->streamlit) (2023.3)\n",
      "Requirement already satisfied: smmap<6,>=3.0.1 in c:\\users\\mostafa\\anaconda33\\lib\\site-packages (from gitdb<5,>=4.0.1->gitpython!=3.1.19,<4,>=3.0.7->streamlit) (5.0.1)\n",
      "Requirement already satisfied: MarkupSafe>=2.0 in c:\\users\\mostafa\\anaconda33\\lib\\site-packages (from jinja2->altair<6,>=4.0->streamlit) (2.1.1)\n",
      "Requirement already satisfied: attrs>=17.4.0 in c:\\users\\mostafa\\anaconda33\\lib\\site-packages (from jsonschema>=3.0->altair<6,>=4.0->streamlit) (22.1.0)\n",
      "Requirement already satisfied: pyrsistent!=0.17.0,!=0.17.1,!=0.17.2,>=0.14.0 in c:\\users\\mostafa\\anaconda33\\lib\\site-packages (from jsonschema>=3.0->altair<6,>=4.0->streamlit) (0.18.0)\n",
      "Requirement already satisfied: mdurl~=0.1 in c:\\users\\mostafa\\anaconda33\\lib\\site-packages (from markdown-it-py>=2.2.0->rich<14,>=10.14.0->streamlit) (0.1.2)\n"
     ]
    }
   ],
   "source": [
    "#install needed libraries\n",
    "!pip install scikit-surprise\n",
    "!pip install scikit-surprise\n",
    "!pip install --upgrade streamlit"
   ]
  },
  {
   "cell_type": "markdown",
   "metadata": {
    "id": "JwlWyjINIjkg"
   },
   "source": [
    "# Deploy Model"
   ]
  },
  {
   "cell_type": "code",
   "execution_count": 2,
   "metadata": {
    "id": "xdEI-eQaIjkh",
    "outputId": "f67dc117-188a-4722-c811-1cdbcacc5796"
   },
   "outputs": [
    {
     "name": "stderr",
     "output_type": "stream",
     "text": [
      "C:\\Users\\mostafa\\AppData\\Local\\Temp\\ipykernel_17684\\2601738972.py:18: ParserWarning: Falling back to the 'python' engine because the 'c' engine does not support regex separators (separators > 1 char and different from '\\s+' are interpreted as regex); you can avoid this warning by specifying engine='python'.\n",
      "  movies_data = pd.read_csv('movies.dat', names=[\"MovieID\", \"Title\", \"Genres\"], sep=\"::\")\n",
      "C:\\Users\\mostafa\\AppData\\Local\\Temp\\ipykernel_17684\\2601738972.py:19: ParserWarning: Falling back to the 'python' engine because the 'c' engine does not support regex separators (separators > 1 char and different from '\\s+' are interpreted as regex); you can avoid this warning by specifying engine='python'.\n",
      "  ratings_data = pd.read_csv('ratings.dat', names=[\"UserID\", \"MovieID\", \"Rating\", \"Timestamp\"], sep=\"::\")\n",
      "C:\\Users\\mostafa\\AppData\\Local\\Temp\\ipykernel_17684\\2601738972.py:20: ParserWarning: Falling back to the 'python' engine because the 'c' engine does not support regex separators (separators > 1 char and different from '\\s+' are interpreted as regex); you can avoid this warning by specifying engine='python'.\n",
      "  users_data = pd.read_csv(\"users.dat\", names=[\"UserID\", \"Gender\", \"Age\", \"Occupation\", \"Zip-code\"], sep=\"::\")\n"
     ]
    },
    {
     "name": "stdout",
     "output_type": "stream",
     "text": [
      "Computing the cosine similarity matrix...\n",
      "Done computing similarity matrix.\n"
     ]
    }
   ],
   "source": [
    "import pandas as pd\n",
    "from surprise import Dataset, Reader, KNNBasic\n",
    "import streamlit as st\n",
    "import surprise\n",
    "import numpy as np\n",
    "import streamlit as st\n",
    "import pandas as pd \n",
    "import matplotlib.pyplot as plt\n",
    "from sklearn.model_selection import train_test_split\n",
    "import surprise\n",
    "from surprise import SVD\n",
    "from surprise import accuracy\n",
    "from surprise import Dataset, Reader, KNNBasic\n",
    "\n",
    "\n",
    "\n",
    "# Load and merge the three tables\n",
    "movies_data = pd.read_csv('movies.dat', names=[\"MovieID\", \"Title\", \"Genres\"], sep=\"::\")\n",
    "ratings_data = pd.read_csv('ratings.dat', names=[\"UserID\", \"MovieID\", \"Rating\", \"Timestamp\"], sep=\"::\")\n",
    "users_data = pd.read_csv(\"users.dat\", names=[\"UserID\", \"Gender\", \"Age\", \"Occupation\", \"Zip-code\"], sep=\"::\")\n",
    "\n",
    "# Merge tables based on common columns (e.g., MovieID and UserID)\n",
    "merged_data = pd.merge(ratings_data, users_data, on='UserID')\n",
    "merged_data = pd.merge(merged_data, movies_data, on='MovieID')\n",
    "\n",
    "# Define groups and criteria\n",
    "group_criteria = {\n",
    "    'Children': (merged_data['Age'] <= 12),\n",
    "    'Teens': (merged_data['Age'] > 12) & (merged_data['Age'] <= 18),\n",
    "    'Adults': (merged_data['Age'] > 18),\n",
    "}\n",
    "\n",
    "# Save merged_data to a file (optional)\n",
    "merged_data.to_csv('merged_data.csv', index=False)\n",
    "\n",
    "# Build a collaborative filtering model (KNN) using the merged dataset\n",
    "reader = Reader(rating_scale=(1, 5))\n",
    "data = Dataset.load_from_df(merged_data[['UserID', 'MovieID', 'Rating']], reader)\n",
    "trainset = data.build_full_trainset()\n",
    "model = KNNBasic(sim_options={'name': 'cosine', 'user_based': True})\n",
    "model.fit(trainset)\n",
    "\n",
    "# Save the trained model to a file\n",
    "surprise.dump.dump('knn_model.pkl', algo=model)\n",
    "# Save the merged data to a CSV file\n",
    "merged_data.to_csv('merged_data.csv', index=False)"
   ]
  },
  {
   "cell_type": "code",
   "execution_count": 3,
   "metadata": {
    "id": "ib0hSIa8Ijkh",
    "outputId": "493b2b75-8e74-41c4-95c7-2fa91583157f"
   },
   "outputs": [
    {
     "name": "stdout",
     "output_type": "stream",
     "text": [
      "Overwriting app3000.py\n"
     ]
    }
   ],
   "source": [
    "%%writefile app3000.py\n",
    "import streamlit as st\n",
    "import surprise\n",
    "import numpy as np\n",
    "import streamlit as st\n",
    "import pandas as pd\n",
    "import matplotlib.pyplot as plt\n",
    "from sklearn.neighbors import KNeighborsRegressor\n",
    "import surprise\n",
    "from surprise import SVD\n",
    "from surprise import accuracy\n",
    "from surprise import Dataset, Reader, KNNBasic\n",
    "\n",
    "\n",
    "# Load the trained model from the file\n",
    "model = surprise.dump.load('knn_model.pkl')[1]\n",
    "merged_data = pd.read_csv('merged_data.csv')\n",
    "movies_data = pd.read_csv('movies.dat', names=[\"MovieID\", \"Title\", \"Genres\"], sep=\"::\")\n",
    "users_data = pd.read_csv(\"users.dat\", names=[\"UserID\", \"Gender\", \"Age\", \"Occupation\", \"Zip-code\"], sep=\"::\")\n",
    "group_criteria = {\n",
    "    'Children': (merged_data['Age'] <= 12),\n",
    "    'Teens': (merged_data['Age'] > 12) & (merged_data['Age'] <= 18),\n",
    "    'Adults': (merged_data['Age'] > 18),\n",
    "}\n",
    "\n",
    "# Create a dictionary to map MovieID to Title\n",
    "movie_id_to_title = dict(zip(movies_data['MovieID'], movies_data['Title']))\n",
    "\n",
    "\n",
    "\n",
    "# Streamlit app\n",
    "st.title(\"Movie Recommendations System\")\n",
    "\n",
    "# Input widgets\n",
    "group_input = st.selectbox(\"Select a group:\", list(group_criteria.keys()))\n",
    "user_input = st.number_input(\"Enter a user ID:\", min_value=1, max_value=users_data['UserID'].max())\n",
    "\n",
    "\n",
    "\n",
    "# Function to get recommendations\n",
    "def get_recommendations(group, user_id, top_n=10):\n",
    "    if group not in group_criteria:\n",
    "        return \"Invalid group\"\n",
    "\n",
    "    user_in_group = merged_data[(merged_data['UserID'] == user_id) & group_criteria[group]].shape[0] > 0\n",
    "\n",
    "    if not user_in_group:\n",
    "        return \"User not found in the specified group\"\n",
    "\n",
    "    user_history = merged_data[(merged_data['UserID'] == user_id) & (merged_data['Rating'] >= 4)]\n",
    "    user_movie_ids = user_history['MovieID'].tolist()\n",
    "\n",
    "    top_movie_ids = []\n",
    "\n",
    "    if group == 'Children':\n",
    "        genres_to_recommend = ['Children','Animation']\n",
    "    elif group == 'Teens':\n",
    "        genres_to_recommend = ['Drama', 'Action']\n",
    "    elif group == 'Adults':\n",
    "        genres_to_recommend = ['Romance','Comedy']\n",
    "    else:\n",
    "        genres_to_recommend = []\n",
    "\n",
    "    for movie_id in range(1, 3953):\n",
    "        if movie_id not in user_movie_ids:\n",
    "            movie_genres = movies_data.loc[movies_data['MovieID'] == movie_id, 'Genres']\n",
    "            if not movie_genres.empty and any(genre in movie_genres.values[0] for genre in genres_to_recommend):\n",
    "                prediction = model.predict(user_id, movie_id)\n",
    "                top_movie_ids.append((movie_id, prediction.est))\n",
    "\n",
    "    top_movie_ids.sort(key=lambda x: x[1], reverse=True)\n",
    "    top_movie_ids = [movie[0] for movie in top_movie_ids[:top_n]]\n",
    "\n",
    "    top_movie_titles = [movie_id_to_title[movie_id].rsplit('(', 1)[0].strip() for movie_id in top_movie_ids]\n",
    "\n",
    "    return top_movie_titles\n",
    "\n",
    "# Button to get recommendations\n",
    "if st.button(\"Get Recommendations\"):\n",
    "    recommendations = get_recommendations(group_input, user_input)\n",
    "    if isinstance(recommendations, list):\n",
    "        st.write(f\"Top {len(recommendations)} Movie Recommendations for {group_input} Group and User {user_input}:\")\n",
    "        for movie_title in recommendations:\n",
    "            st.write(movie_title)\n",
    "    else:\n",
    "        st.write(recommendations)"
   ]
  },
  {
   "cell_type": "code",
   "execution_count": null,
   "metadata": {
    "id": "IesoR2SuIjki",
    "outputId": "65790bab-22fa-44e9-f979-83ce7be72bc4"
   },
   "outputs": [],
   "source": [
    "!streamlit run app3000.py"
   ]
  },
  {
   "cell_type": "code",
   "execution_count": null,
   "metadata": {},
   "outputs": [],
   "source": []
  }
 ],
 "metadata": {
  "colab": {
   "provenance": []
  },
  "kernelspec": {
   "display_name": "Python 3 (ipykernel)",
   "language": "python",
   "name": "python3"
  },
  "language_info": {
   "codemirror_mode": {
    "name": "ipython",
    "version": 3
   },
   "file_extension": ".py",
   "mimetype": "text/x-python",
   "name": "python",
   "nbconvert_exporter": "python",
   "pygments_lexer": "ipython3",
   "version": "3.10.9"
  }
 },
 "nbformat": 4,
 "nbformat_minor": 1
}
